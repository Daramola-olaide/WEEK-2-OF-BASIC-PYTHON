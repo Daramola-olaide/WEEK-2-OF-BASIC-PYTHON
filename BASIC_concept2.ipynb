{
 "cells": [
  {
   "cell_type": "code",
   "execution_count": 1,
   "id": "1caf8672-7f30-4ec2-8bc7-d4db5e32b50a",
   "metadata": {},
   "outputs": [],
   "source": [
    "#WEEK TWO : QUESTIONS AND ANSWERS TO 20  BASIC PYTHON CONCEPT"
   ]
  },
  {
   "cell_type": "code",
   "execution_count": 50,
   "id": "2277d059-6f67-42e6-b566-6148c25e492a",
   "metadata": {},
   "outputs": [
    {
     "name": "stdin",
     "output_type": "stream",
     "text": [
      "enter a first date 01/20/1989\n",
      "enter a second date 11/28/1983\n"
     ]
    },
    {
     "name": "stdout",
     "output_type": "stream",
     "text": [
      "1880 days, 0:00:00\n"
     ]
    }
   ],
   "source": [
    "#1...write python program to find number of day between two days\n",
    "\n",
    "#import datetime and collect date from user\n",
    "from datetime import datetime\n",
    "first_date=input(\"enter a first date\")\n",
    "second_date=input(\"enter a second date\")\n",
    "\n",
    "#indicate the desired date format\n",
    "date_format=\"%m/%d/%Y\"\n",
    "\n",
    "\n",
    "D1=datetime.strptime(first_date, date_format)\n",
    "D2=datetime.strptime(second_date, date_format)\n",
    "\n",
    "number_of_days=(D1-D2)\n",
    "print(number_of_days)"
   ]
  },
  {
   "cell_type": "code",
   "execution_count": 9,
   "id": "114ca7b1-ae5b-440a-8807-f05103387aa8",
   "metadata": {},
   "outputs": [
    {
     "name": "stdout",
     "output_type": "stream",
     "text": [
      "3600\n",
      "86400\n",
      "31536000\n"
     ]
    },
    {
     "name": "stdin",
     "output_type": "stream",
     "text": [
      "enter a first date 34\n"
     ]
    },
    {
     "name": "stdout",
     "output_type": "stream",
     "text": [
      "Your age in sec is 1072224000s\n"
     ]
    }
   ],
   "source": [
    "#2...write a python program to get age from the user in year, and convert age in to seconds\n",
    "\n",
    "#convert a year to sec\n",
    "oneh=60*60\n",
    "print(oneh)\n",
    "oned=24*60*60\n",
    "print(oned)\n",
    "oney=365*24*60*60\n",
    "print(oney)\n",
    "\n",
    "#get age from user\n",
    "age=int(input(\"enter a first date\"))\n",
    "age_in_sec=age*31536000\n",
    "\n",
    "#get age in secs\n",
    "print(f\"Your age in sec is {age_in_sec}s\")"
   ]
  },
  {
   "cell_type": "code",
   "execution_count": 10,
   "id": "9941b136-40e9-4c8f-b8b8-52d7cd88de49",
   "metadata": {},
   "outputs": [
    {
     "name": "stdin",
     "output_type": "stream",
     "text": [
      "enter a number 300000\n",
      "enter a percentage 10\n"
     ]
    },
    {
     "name": "stdout",
     "output_type": "stream",
     "text": [
      "your percentage is 30000.0\n"
     ]
    }
   ],
   "source": [
    "#3...write a python program to make a percentage calculator\n",
    "\n",
    "#get number from user\n",
    "number=int(input(\"enter a number\"))\n",
    "\n",
    "#get percentage from user also\n",
    "percentage=int(input(\"enter a percentage\"))\n",
    "\n",
    "#with agrregate, calculate the percentage\n",
    "percentage_calculator= number*percentage/100\n",
    "\n",
    "#print your percentage\n",
    "print(\"your percentage is \" + str(percentage_calculator))"
   ]
  },
  {
   "cell_type": "code",
   "execution_count": 13,
   "id": "461e7dea-11d3-4481-83ca-f12a4370b537",
   "metadata": {},
   "outputs": [
    {
     "name": "stdin",
     "output_type": "stream",
     "text": [
      "enter a number 1\n",
      "enter a number 2\n",
      "enter a number 3\n",
      "enter a number 4\n",
      "enter a number 5\n",
      "enter a number 6\n",
      "enter a number 7\n",
      "enter a number 8\n",
      "enter a number 9\n",
      "enter a number 56\n"
     ]
    },
    {
     "name": "stdout",
     "output_type": "stream",
     "text": [
      "['1', '2', '3', '4', '5', '6', '7', '8', '9', '56']\n",
      "['1', '2', '3', '4', '5', '6', '7', '8', '9', '56']\n"
     ]
    }
   ],
   "source": [
    "#4...write a python program to clone or copy of a ten color list \n",
    "\n",
    "#get 10 number from user in a list\n",
    "color=[ ]\n",
    "for i in range (10):\n",
    "    color.append(input(\"enter a number\"))\n",
    "print(color)\n",
    "\n",
    "#clone i.e copy the color in the list\n",
    "clone=color.copy()\n",
    "print(clone)"
   ]
  },
  {
   "cell_type": "code",
   "execution_count": 54,
   "id": "2d07a76a-3e6a-4b97-bc44-961921f447d9",
   "metadata": {},
   "outputs": [
    {
     "name": "stdout",
     "output_type": "stream",
     "text": [
      "18\n",
      "16\n",
      "15\n"
     ]
    }
   ],
   "source": [
    "#5...write a python program to get a number to return its next and previous number\n",
    "\n",
    "number=[18,16,15,13,11,29,24,25,28]\n",
    "number_iter=iter(number)\n",
    "numbering=next(number_iter)\n",
    "print(numbering)\n",
    "numbering=next(number_iter)\n",
    "print(numbering)\n",
    "numbering=next(number_iter)\n",
    "print(numbering)\n"
   ]
  },
  {
   "cell_type": "code",
   "execution_count": 34,
   "id": "7a9deb94-7a67-4ca4-bef0-36afd3893c67",
   "metadata": {},
   "outputs": [
    {
     "name": "stdout",
     "output_type": "stream",
     "text": [
      "numbers divisible by 5 and 7 = [35]\n",
      "numbers divisible by 5 and 7 = [35, 70]\n"
     ]
    }
   ],
   "source": [
    "#6...write a python program to append those number that are divisible by 5 and 7 from a range(10,100)\n",
    "#to a new created list\n",
    "\n",
    "num=[ ]\n",
    "for i in range (10,100):\n",
    "    if i%5==0 and i%7==0:\n",
    "        num.append(i)\n",
    "        print(f\"numbers divisible by 5 and 7 = {num}\")\n",
    "    \n",
    "    \n"
   ]
  },
  {
   "cell_type": "code",
   "execution_count": 24,
   "id": "e0a95e77-f402-4835-accd-19684d9e33ab",
   "metadata": {},
   "outputs": [
    {
     "name": "stdin",
     "output_type": "stream",
     "text": [
      "Enter a number 9\n"
     ]
    },
    {
     "name": "stdout",
     "output_type": "stream",
     "text": [
      "9 * 12 = 108\n",
      "9 * 11 = 99\n",
      "9 * 10 = 90\n",
      "9 * 9 = 81\n",
      "9 * 8 = 72\n",
      "9 * 7 = 63\n",
      "9 * 6 = 54\n",
      "9 * 5 = 45\n",
      "9 * 4 = 36\n",
      "9 * 3 = 27\n",
      "9 * 2 = 18\n",
      "9 * 1 = 9\n"
     ]
    }
   ],
   "source": [
    "#7...write a py program to get number from user to display table in reverse order\n",
    "#example\n",
    "#2*10=20\n",
    "#2*9=18\n",
    "\n",
    "#get a number\n",
    "number=int(input(\"Enter a number\"))\n",
    "\n",
    "#get the number in reverse order \n",
    "for i in range (12,0,-1):\n",
    "    \n",
    "#multiply and print\n",
    "    print(f\"{number} * {i} = {number*i}\")"
   ]
  },
  {
   "cell_type": "code",
   "execution_count": 69,
   "id": "16f96f28-da4a-4dc6-b394-1a5a423eb1dd",
   "metadata": {},
   "outputs": [
    {
     "name": "stdin",
     "output_type": "stream",
     "text": [
      "enter a number try\n"
     ]
    },
    {
     "name": "stdout",
     "output_type": "stream",
     "text": [
      "ok\n"
     ]
    }
   ],
   "source": [
    "#8...write a python program to get its user name from the user that should have alphanumeric character\n",
    "#then pass that username to function as parameter to display that username\n",
    "\n",
    "pwd=input(\"enter a number\")\n",
    "\n",
    "def correct_pwd(p):\n",
    "    if (p.isalnum()):\n",
    "        print(\"ok\")\n",
    "    else:\n",
    "        print(\"not okay\")\n",
    "        \n",
    "correct_pwd(pwd)\n"
   ]
  },
  {
   "cell_type": "code",
   "execution_count": 37,
   "id": "b09f4adf-1811-42f3-a966-ee3d91975eaf",
   "metadata": {},
   "outputs": [
    {
     "name": "stdin",
     "output_type": "stream",
     "text": [
      "enter a number 9\n",
      "enter a number 8\n",
      "enter a number 6\n",
      "enter a number 5\n",
      "enter a number 12\n"
     ]
    },
    {
     "name": "stdout",
     "output_type": "stream",
     "text": [
      "[9, 8, 6, 5, 12]\n",
      "maximum number =12\n",
      "sum of the number =40\n"
     ]
    }
   ],
   "source": [
    "#9... write a python program to get five number in the list,pass that list to a function to \n",
    "#find maximum and add that number and display total result.\n",
    "\n",
    "#create a list\n",
    "entered_num=[]\n",
    "\n",
    "#get five numbers to your list\n",
    "for i in range(5):\n",
    "    entered_num.append(int(input(\"enter a number\")))\n",
    "print(entered_num)\n",
    "\n",
    "#pass the list to a function\n",
    "def number(entered_num):\n",
    "\n",
    "#perform aggregate\n",
    "    print(\"maximum number =\" + str(max(entered_num)))\n",
    "    print(\"sum of the number =\" + str(sum(entered_num)))\n",
    "  \n",
    "    \n",
    "number(entered_num)"
   ]
  },
  {
   "cell_type": "code",
   "execution_count": 25,
   "id": "359ee7b6-9a90-458d-8e37-c7a14f088f9c",
   "metadata": {},
   "outputs": [
    {
     "name": "stdin",
     "output_type": "stream",
     "text": [
      "enter a number 45\n",
      "enter a number 67\n",
      "enter a number 82\n",
      "enter a number 31\n",
      "enter a number 83\n",
      "enter a number 97\n",
      "enter a number 56\n"
     ]
    },
    {
     "name": "stdout",
     "output_type": "stream",
     "text": [
      "[45, 67, 82, 31, 83, 97, 56]\n",
      "97\n"
     ]
    }
   ],
   "source": [
    "#10...write a python program to find maximum number from a list using function\n",
    "\n",
    "call_num=[]\n",
    "for i in range(7):\n",
    "    call_num.append(int(input(\"enter a number\")))\n",
    "print(call_num)\n",
    "\n",
    "def max_num(call_num):\n",
    "    print(max(call_num))\n",
    "    \n",
    "max_num(call_num)"
   ]
  },
  {
   "cell_type": "code",
   "execution_count": 21,
   "id": "3b75e06f-b6e6-4727-bf0d-87b0c0d3818e",
   "metadata": {},
   "outputs": [
    {
     "name": "stdin",
     "output_type": "stream",
     "text": [
      "enter a number 45\n",
      "enter a number 67\n"
     ]
    },
    {
     "name": "stdout",
     "output_type": "stream",
     "text": [
      "[45, 67]\n",
      "67\n"
     ]
    }
   ],
   "source": [
    "#11...write a python program to get 2 number from the user, pass to function and find maximum\n",
    "\n",
    "num=[]\n",
    "for i in range(2):\n",
    "    num.append(int(input(\"enter a number\")))\n",
    "print(num)\n",
    "\n",
    "def maxi_num(num):\n",
    "    print(max(num))\n",
    "\n",
    "maxi_num(num)"
   ]
  },
  {
   "cell_type": "code",
   "execution_count": 9,
   "id": "9fa31a0c-c80e-42a4-acd7-baf32f633730",
   "metadata": {},
   "outputs": [
    {
     "name": "stdin",
     "output_type": "stream",
     "text": [
      "enter a sentence my name is olaide\n"
     ]
    },
    {
     "name": "stdout",
     "output_type": "stream",
     "text": [
      "first character = m\n",
      "last character = e\n"
     ]
    }
   ],
   "source": [
    "#12... write a python program to print first and last character from a string\n",
    "\n",
    "#get string from a user\n",
    "user=input(\"enter a sentence\")\n",
    "\n",
    "#find the first and last character\n",
    "print(\"first character = \" + str(user[0]))\n",
    "print(\"last character = \" + str(user[-1]))"
   ]
  },
  {
   "cell_type": "code",
   "execution_count": 1,
   "id": "da86eaba-0442-4926-8466-6cc7c55f8561",
   "metadata": {},
   "outputs": [
    {
     "name": "stdin",
     "output_type": "stream",
     "text": [
      "enter a sentence you are kind\n"
     ]
    },
    {
     "name": "stdout",
     "output_type": "stream",
     "text": [
      "y\n",
      "o\n",
      "u\n",
      " \n",
      "a\n",
      "r\n",
      "e\n",
      " \n",
      "k\n",
      "i\n",
      "n\n",
      "d\n"
     ]
    }
   ],
   "source": [
    "#13... write a python program to get a sentence from a user , to display last character of that sentence\n",
    "#and all the characters one by one\n",
    "\n",
    "user = input(\"enter a sentence\")\n",
    "#display all character one by one\n",
    "for ch in user:\n",
    "    print(ch)"
   ]
  },
  {
   "cell_type": "code",
   "execution_count": 34,
   "id": "a80547de-be73-44f1-83bc-21def890bf76",
   "metadata": {},
   "outputs": [
    {
     "name": "stdout",
     "output_type": "stream",
     "text": [
      "24\n"
     ]
    }
   ],
   "source": [
    "#14... write a python program to find the second position of a student in a list and \n",
    "#display marks\n",
    "\n",
    "student_mark=[21,19,24,27,17,19,15,14,10]\n",
    "\n",
    "   #rearrange in ascending order\n",
    "student_mark.sort(reverse=True)\n",
    "\n",
    "#find the second position\n",
    "student_position=student_mark[1]\n",
    "\n",
    "print(student_position)\n"
   ]
  },
  {
   "cell_type": "code",
   "execution_count": 23,
   "id": "90f0bd16-d64c-40ff-be2b-da5bcfb7eb32",
   "metadata": {},
   "outputs": [
    {
     "name": "stdout",
     "output_type": "stream",
     "text": [
      "0\n",
      "2\n",
      "4\n",
      "6\n",
      "8\n",
      "10\n",
      "12\n",
      "14\n",
      "16\n",
      "18\n",
      "20\n",
      "total of even numbers = 110\n",
      "1\n",
      "3\n",
      "5\n",
      "7\n",
      "9\n",
      "11\n",
      "13\n",
      "15\n",
      "17\n",
      "19\n",
      "total of odd numbers = 100\n",
      "total of even and odd numbers = 210\n"
     ]
    }
   ],
   "source": [
    "#15...write a python program to generate number from 0 to 20 only even number and \n",
    "#generate number from 0 to 20 only odd number,add both generated number to each other to display total result\n",
    "\n",
    "#get the even numbers\n",
    "Even=[ ]\n",
    "s1=0\n",
    "for i in range (0,21):\n",
    "    if i%2==0:\n",
    "        s1+=i\n",
    "        print(i)\n",
    "        \n",
    "#add up the even numbers\n",
    "print(f\"total of even numbers = {s1}\")\n",
    "\n",
    "#get the odd numbers\n",
    "Odd=[ ]\n",
    "s2=0\n",
    "for i in range (0,21):\n",
    "    if i%2!=0:\n",
    "        s2+=i\n",
    "        print(i)\n",
    "#add up the odd number\n",
    "print(f\"total of odd numbers = {s2}\")\n",
    "\n",
    "\n",
    "#adding up both even and odd numbers\n",
    "addition=s1+s2\n",
    "print(f\"total of even and odd numbers = {addition}\")"
   ]
  },
  {
   "cell_type": "code",
   "execution_count": 15,
   "id": "730bf7c4-0b11-4fdf-8836-f1668792dfcd",
   "metadata": {},
   "outputs": [
    {
     "name": "stdin",
     "output_type": "stream",
     "text": [
      "write name of author and year ugo c ugo, 1996\n",
      "write name of author and year joyce meyer, 1999\n",
      "write name of author and year gloria dogh, 1890\n",
      "write name of author and year abraham lincoln\n",
      "write name of author and year temu philip, 2019\n"
     ]
    },
    {
     "name": "stdout",
     "output_type": "stream",
     "text": [
      "['ugo c ugo, 1996', 'joyce meyer, 1999', 'gloria dogh, 1890', 'abraham lincoln', 'temu philip, 2019']\n",
      "temu philip, 2019\n"
     ]
    }
   ],
   "source": [
    "#16 write a python program to get five author names with their book names and display\n",
    "#last author with its book name\n",
    "\n",
    "author=[]\n",
    "for i in range(5):\n",
    "    author.append(input(\"write name of author and year\"))\n",
    "print(author)\n",
    "author_last=author.pop()\n",
    "print(author_last)"
   ]
  },
  {
   "cell_type": "code",
   "execution_count": 5,
   "id": "878e8d81-94f1-4b81-8901-d89707f950ca",
   "metadata": {},
   "outputs": [
    {
     "name": "stdin",
     "output_type": "stream",
     "text": [
      "enter the value for m 250\n",
      "enter the value for v 60\n"
     ]
    },
    {
     "name": "stdout",
     "output_type": "stream",
     "text": [
      " the density = 4.166666666666667g/cm^3\n"
     ]
    }
   ],
   "source": [
    "#17...write a python to find a density of an object\n",
    "#where density=m/v\n",
    "for_m=int(input(\"enter the value for m\"))\n",
    "for_v=int(input(\"enter the value for v\"))\n",
    "\n",
    "density=for_m / for_v\n",
    "print(f\" The density = {density}g/cm^3\")\n",
    "                "
   ]
  },
  {
   "cell_type": "code",
   "execution_count": 12,
   "id": "62826472-9ddc-4e8d-ae1f-98fd95848760",
   "metadata": {},
   "outputs": [
    {
     "name": "stdin",
     "output_type": "stream",
     "text": [
      "enter you name christy\n",
      "enter your age 34\n"
     ]
    },
    {
     "name": "stdout",
     "output_type": "stream",
     "text": [
      "['christy', '34']\n"
     ]
    }
   ],
   "source": [
    "#18...write a python program to create a file and write username and age in that file\n",
    "\n",
    "file=[ ]\n",
    "\n",
    "file.append(input(\"enter you name\"))\n",
    "file.append(input(\"enter your age\"))\n",
    "\n",
    "print(file)"
   ]
  },
  {
   "cell_type": "code",
   "execution_count": 10,
   "id": "0487bc97-d7eb-461c-9196-fac2ccbd611d",
   "metadata": {},
   "outputs": [
    {
     "name": "stdout",
     "output_type": "stream",
     "text": [
      "joy\n",
      "faisal\n",
      "funnybone\n",
      "beauty\n"
     ]
    }
   ],
   "source": [
    "#19...write a python program to get name from a list, that starts from 'f' and ends with 'y'\n",
    "\n",
    "#create your names in a list\n",
    "name=[\"joy\", \"peace\",\"faisal\",\"funnybone\",\"beauty\", \"black\"]\n",
    "\n",
    "#get name with specific character\n",
    "for i in name:\n",
    "    if i.startswith(\"f\") or i.endswith(\"y\") :\n",
    "        print(i)\n",
    "  "
   ]
  },
  {
   "cell_type": "code",
   "execution_count": 5,
   "id": "9b6d75eb-2f97-4330-954d-243b27c23100",
   "metadata": {},
   "outputs": [
    {
     "name": "stdout",
     "output_type": "stream",
     "text": [
      "[70, 99, 82, 75, 91, 89, 94, 99, 71]\n"
     ]
    }
   ],
   "source": [
    "#20...write a python program to filter a list with score greater or equals to 70\n",
    "\n",
    "score=[70, 99, 82, 75, 43, 91, 52, 65, 89, 94, 99, 71]\n",
    "filtered= filter(lambda mark: mark>=70 , score)\n",
    "\n",
    "print(list(filtered))"
   ]
  },
  {
   "cell_type": "code",
   "execution_count": null,
   "id": "3339c08b-74fa-45bb-9aa3-c69eebdac2cc",
   "metadata": {},
   "outputs": [],
   "source": []
  }
 ],
 "metadata": {
  "kernelspec": {
   "display_name": "Python 3 (ipykernel)",
   "language": "python",
   "name": "python3"
  },
  "language_info": {
   "codemirror_mode": {
    "name": "ipython",
    "version": 3
   },
   "file_extension": ".py",
   "mimetype": "text/x-python",
   "name": "python",
   "nbconvert_exporter": "python",
   "pygments_lexer": "ipython3",
   "version": "3.11.5"
  }
 },
 "nbformat": 4,
 "nbformat_minor": 5
}
